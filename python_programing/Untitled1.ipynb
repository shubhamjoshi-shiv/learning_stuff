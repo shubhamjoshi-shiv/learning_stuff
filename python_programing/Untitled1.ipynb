{
 "cells": [
  {
   "cell_type": "code",
   "execution_count": 1,
   "metadata": {},
   "outputs": [],
   "source": [
    "# Python program to introduce Binary Tree\n",
    " \n",
    "# A class that represents an individual node in a\n",
    "# Binary Tree\n",
    "\n",
    "class Node:\n",
    "    def __init__(self,key):\n",
    "        self.left = None\n",
    "        self.right = None\n",
    "        self.val = key\n",
    "        "
   ]
  },
  {
   "cell_type": "code",
   "execution_count": 2,
   "metadata": {},
   "outputs": [],
   "source": [
    "# create root\n",
    "\n",
    "root = Node(1)\n",
    "\n",
    "''' following is the tree after above statement\n",
    "        1\n",
    "      /   \\\n",
    "     None  None'''\n",
    " "
   ]
  },
  {
   "cell_type": "code",
   "execution_count": 3,
   "metadata": {},
   "outputs": [],
   "source": [
    "root.left = Node(2);\n",
    "root.right = Node(3);\n",
    "\n",
    "''' 2 and 3 become left and right children of 1\n",
    "           1\n",
    "         /   \\\n",
    "        2      3\n",
    "     /    \\    /  \\\n",
    "   None None None None'''\n",
    " "
   ]
  },
  {
   "cell_type": "code",
   "execution_count": 4,
   "metadata": {},
   "outputs": [],
   "source": [
    "root.left.left =Node(4)\n",
    "\n",
    "'''4 becomes left child of 2\n",
    "           1\n",
    "       /       \\\n",
    "      2          3\n",
    "    /   \\       /  \\\n",
    "   4    None  None  None\n",
    "  /  \\\n",
    "None None'''"
   ]
  },
  {
   "cell_type": "code",
   "execution_count": null,
   "metadata": {},
   "outputs": [],
   "source": []
  }
 ],
 "metadata": {
  "kernelspec": {
   "display_name": "Python 3",
   "language": "python",
   "name": "python3"
  },
  "language_info": {
   "codemirror_mode": {
    "name": "ipython",
    "version": 3
   },
   "file_extension": ".py",
   "mimetype": "text/x-python",
   "name": "python",
   "nbconvert_exporter": "python",
   "pygments_lexer": "ipython3",
   "version": "3.6.5"
  }
 },
 "nbformat": 4,
 "nbformat_minor": 2
}
