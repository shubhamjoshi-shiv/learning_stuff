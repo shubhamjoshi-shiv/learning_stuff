{
 "cells": [
  {
   "cell_type": "code",
   "execution_count": 2,
   "metadata": {},
   "outputs": [],
   "source": [
    "# Definition for singly-linked list.\n",
    "class ListNode:\n",
    "    def __init__(self, val=0, next=None):\n",
    "        self.val = val\n",
    "        self.next = next"
   ]
  },
  {
   "cell_type": "code",
   "execution_count": 4,
   "metadata": {},
   "outputs": [
    {
     "ename": "IndentationError",
     "evalue": "expected an indented block (<ipython-input-4-e1d0e55991ab>, line 4)",
     "output_type": "error",
     "traceback": [
      "\u001b[1;36m  File \u001b[1;32m\"<ipython-input-4-e1d0e55991ab>\"\u001b[1;36m, line \u001b[1;32m4\u001b[0m\n\u001b[1;33m    print(l1)\u001b[0m\n\u001b[1;37m             ^\u001b[0m\n\u001b[1;31mIndentationError\u001b[0m\u001b[1;31m:\u001b[0m expected an indented block\n"
     ]
    }
   ],
   "source": [
    "        \n",
    "class Solution:\n",
    "    def addTwoNumbers(self, l1: ListNode, l2: ListNode) -> ListNode:\n",
    "        print(lc1)\n",
    "                 "
   ]
  },
  {
   "cell_type": "code",
   "execution_count": 16,
   "metadata": {},
   "outputs": [],
   "source": [
    "string_to_reverse = 'hello world'\n",
    "length_of_string = len(string_to_reverse)\n",
    "reversed_string = \"\"\n",
    "\n",
    "\n",
    "for position in range(length_of_string-1,-1,-1):\n",
    "    reversed_string = reversed_string + string_to_reverse[position]\n",
    "\n",
    "\n"
   ]
  },
  {
   "cell_type": "code",
   "execution_count": 17,
   "metadata": {},
   "outputs": [
    {
     "data": {
      "text/plain": [
       "\"['a', 'b', 'c']\""
      ]
     },
     "execution_count": 17,
     "metadata": {},
     "output_type": "execute_result"
    }
   ],
   "source": [
    "# s=\"hello world\"\n",
    "# rs=''\n",
    "# l=len(s)\n",
    "# s[11-1]\n",
    "# for i in  range(l-1,-1,-1):\n",
    "#     print(s[i])\n",
    "#     rs=rs+s[i]\n",
    "# print(rs)\n",
    "str(['a','b','c'])"
   ]
  },
  {
   "cell_type": "code",
   "execution_count": null,
   "metadata": {},
   "outputs": [],
   "source": []
  },
  {
   "cell_type": "code",
   "execution_count": null,
   "metadata": {},
   "outputs": [],
   "source": []
  },
  {
   "cell_type": "markdown",
   "metadata": {},
   "source": [
    "Q---------- Array\tGiven an array which consists of only 0, 1 and 2. Sort the array without using any sorting algo"
   ]
  },
  {
   "cell_type": "code",
   "execution_count": 30,
   "metadata": {},
   "outputs": [
    {
     "data": {
      "text/plain": [
       "([1, 1], [2, 2])"
      ]
     },
     "execution_count": 30,
     "metadata": {},
     "output_type": "execute_result"
    }
   ],
   "source": [
    "# rough\n",
    "# a=1\n",
    "# a+=1\n",
    "# a\n",
    "# 2\n",
    "\n",
    "# a=[]\n",
    "# a=2*[1,],2*[2,]\n",
    "# a\n",
    "# ([1, 1], [2, 2])\n",
    "\n",
    "# a=[]\n",
    "# a.append(2*[1,])\n",
    "# a\n",
    "# [[1, 1]]\n",
    "\n",
    "# a=[]\n",
    "# a=(2*[1,])+(2*[1,])\n",
    "# a\n",
    "# [1, 1, 1, 1]\n"
   ]
  },
  {
   "cell_type": "code",
   "execution_count": 32,
   "metadata": {},
   "outputs": [
    {
     "name": "stdout",
     "output_type": "stream",
     "text": [
      "[0, 0, 0, 0, 0, 1, 1, 1, 1, 1, 1, 2, 2, 2, 2, 2, 2]\n"
     ]
    }
   ],
   "source": [
    "input_array=[0,1,2,2,1,1,1,0,0,2,2,0,1,0,2,2,1]\n",
    "output_array=[]\n",
    "\n",
    "number_of_zero_in_array=0\n",
    "number_of_one_in_array=0\n",
    "number_of_two_in_array=0\n",
    "\n",
    "for element in input_array:\n",
    "    if element == 0:\n",
    "        number_of_zero_in_array+=1\n",
    "    if element == 1:\n",
    "        number_of_one_in_array+=1\n",
    "    if element == 2:\n",
    "        number_of_two_in_array+=1\n",
    "\n",
    "output_array=(number_of_zero_in_array*[0,])+(number_of_one_in_array*[1,])+(number_of_two_in_array*[2,])\n",
    "\n",
    "print(output_array)"
   ]
  },
  {
   "cell_type": "markdown",
   "metadata": {},
   "source": [
    "to add a list use extend "
   ]
  },
  {
   "cell_type": "markdown",
   "metadata": {},
   "source": [
    "a=[]"
   ]
  },
  {
   "cell_type": "code",
   "execution_count": 3,
   "metadata": {},
   "outputs": [
    {
     "name": "stdout",
     "output_type": "stream",
     "text": [
      "appending\n",
      "[0, 1, [3, 4]]\n",
      "extend\n",
      "[0, 1, 3, 4]\n"
     ]
    }
   ],
   "source": [
    "a=[0,1]\n",
    "b=[3,4]\n",
    "a.append(b) #-----------append\n",
    "print(\"appending\")\n",
    "print(a)\n",
    "\n",
    "a=[0,1]\n",
    "b=[3,4]\n",
    "a.extend(b) #----------------extend\n",
    "print(\"extend\")\n",
    "print(a)"
   ]
  },
  {
   "cell_type": "code",
   "execution_count": null,
   "metadata": {},
   "outputs": [],
   "source": []
  }
 ],
 "metadata": {
  "kernelspec": {
   "display_name": "Python 3",
   "language": "python",
   "name": "python3"
  },
  "language_info": {
   "codemirror_mode": {
    "name": "ipython",
    "version": 3
   },
   "file_extension": ".py",
   "mimetype": "text/x-python",
   "name": "python",
   "nbconvert_exporter": "python",
   "pygments_lexer": "ipython3",
   "version": "3.6.5"
  }
 },
 "nbformat": 4,
 "nbformat_minor": 2
}
