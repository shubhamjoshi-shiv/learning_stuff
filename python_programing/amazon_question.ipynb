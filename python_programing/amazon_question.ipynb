{
 "cells": [
  {
   "cell_type": "markdown",
   "metadata": {},
   "source": [
    "combination program\n",
    "\n"
   ]
  },
  {
   "cell_type": "code",
   "execution_count": 9,
   "metadata": {},
   "outputs": [],
   "source": [
    "s=\"aabc\"\n",
    "length=len(s)"
   ]
  },
  {
   "cell_type": "code",
   "execution_count": 13,
   "metadata": {},
   "outputs": [
    {
     "data": {
      "text/plain": [
       "'aabc'"
      ]
     },
     "execution_count": 13,
     "metadata": {},
     "output_type": "execute_result"
    }
   ],
   "source": [
    "s[0:4]"
   ]
  },
  {
   "cell_type": "code",
   "execution_count": 47,
   "metadata": {},
   "outputs": [],
   "source": [
    "number_of_words_with_atleast_x_distinct_char=[0,]*26"
   ]
  },
  {
   "cell_type": "code",
   "execution_count": 49,
   "metadata": {},
   "outputs": [],
   "source": [
    "def solve(input_string):\n",
    "    length_of_input_string = len(input_string)\n",
    "    for i in range(1,length_of_input_string+1):\n",
    "    #     print(\"i===\",i)\n",
    "\n",
    "        for j in range(length_of_input_string+1-i):\n",
    "    #         print(\"j===\",j)\n",
    "    #         print(s[j:j+i])\n",
    "            list_of_char_number = get_list_of_char_number(input_string[j:j+i])\n",
    "            number_of_distinct_char = get_number_of_distinct_char( list_of_char_number )\n",
    "            add_number_of_words(number_of_distinct_char)\n"
   ]
  },
  {
   "cell_type": "code",
   "execution_count": 50,
   "metadata": {},
   "outputs": [],
   "source": [
    "def get_list_of_char_number(s):\n",
    "    return list(map(lambda x:ord(x)-97,s.lower()))\n",
    "    \n",
    "# list_of_char_number=get_list_of_char_number()"
   ]
  },
  {
   "cell_type": "code",
   "execution_count": 51,
   "metadata": {},
   "outputs": [],
   "source": [
    "def get_number_of_distinct_char(list_of_char_number):\n",
    "    distinct_char_list=[0,]*26\n",
    "    \n",
    "    for pos in list_of_char_number:\n",
    "        distinct_char_list[pos]=1\n",
    "\n",
    "#     print(distinct_char_list)\n",
    "    number_of_distinct_char = sum(distinct_char_list)\n",
    "\n",
    "#     print(number_of_distinct_char)\n",
    "\n",
    "    return number_of_distinct_char"
   ]
  },
  {
   "cell_type": "code",
   "execution_count": 52,
   "metadata": {},
   "outputs": [],
   "source": [
    "def add_number_of_words(number_of_distinct_char):\n",
    "    \n",
    "    global number_of_words_with_atleast_x_distinct_char\n",
    "    for pos in range(number_of_distinct_char):\n",
    "        number_of_words_with_atleast_x_distinct_char[pos]+=1"
   ]
  },
  {
   "cell_type": "code",
   "execution_count": 63,
   "metadata": {},
   "outputs": [
    {
     "name": "stdout",
     "output_type": "stream",
     "text": [
      "1 ---------- 28\n",
      "2 ---------- 19\n",
      "3 ---------- 12\n",
      "4 ---------- 7\n",
      "5 ---------- 2\n",
      "6 ---------- 0\n",
      "7 ---------- 0\n",
      "8 ---------- 0\n",
      "9 ---------- 0\n",
      "10 ---------- 0\n",
      "11 ---------- 0\n",
      "12 ---------- 0\n",
      "13 ---------- 0\n",
      "14 ---------- 0\n",
      "15 ---------- 0\n",
      "16 ---------- 0\n",
      "17 ---------- 0\n",
      "18 ---------- 0\n",
      "19 ---------- 0\n",
      "20 ---------- 0\n",
      "21 ---------- 0\n",
      "22 ---------- 0\n",
      "23 ---------- 0\n",
      "24 ---------- 0\n",
      "25 ---------- 0\n",
      "26 ---------- 0\n"
     ]
    }
   ],
   "source": [
    "number_of_words_with_atleast_x_distinct_char=[0,]*26\n",
    "s=\"aazxccd\"\n",
    "solve(s)\n",
    "i=1\n",
    "for element in number_of_words_with_atleast_x_distinct_char:\n",
    "    print(i,\"----------\",element)\n",
    "    i+=1\n",
    "\n"
   ]
  },
  {
   "cell_type": "code",
   "execution_count": null,
   "metadata": {},
   "outputs": [],
   "source": []
  },
  {
   "cell_type": "code",
   "execution_count": 73,
   "metadata": {},
   "outputs": [],
   "source": [
    "known_gcd={(1,1):1}"
   ]
  },
  {
   "cell_type": "code",
   "execution_count": 67,
   "metadata": {},
   "outputs": [],
   "source": [
    "def gcd(larger_number,smaller_number):\n",
    "    if smaller_number == 0:\n",
    "        return larger_number\n",
    "    else:\n",
    "        return gcd(smaller_number ,larger_number%smaller_number)"
   ]
  },
  {
   "cell_type": "code",
   "execution_count": 67,
   "metadata": {},
   "outputs": [],
   "source": [
    "def new_gcd(larger_number,smaller_number):\n",
    "    global known_gcd\n",
    "    \n",
    "    if (larger_number,smaller_number) in known_gcd:\n",
    "        return known_gcd(larger_number,smaller_number)\n",
    "    \n",
    "    elif smaller_number == 0:\n",
    "        known_gcd(larger_number,smaller_number)=larger_number\n",
    "        return known_gcd(larger_number,smaller_number)\n",
    "    \n",
    "    else:\n",
    "        known_gcd(larger_number,smaller_number)=gcd(smaller_number ,larger_number%smaller_number)\n",
    "        return known_gcd(larger_number,smaller_number)"
   ]
  },
  {
   "cell_type": "code",
   "execution_count": 82,
   "metadata": {},
   "outputs": [
    {
     "data": {
      "text/plain": [
       "1000"
      ]
     },
     "execution_count": 82,
     "metadata": {},
     "output_type": "execute_result"
    }
   ],
   "source": [
    "a,b=(30067865469000,68734249000)\n",
    "gcd(a,b)"
   ]
  },
  {
   "cell_type": "code",
   "execution_count": 64,
   "metadata": {},
   "outputs": [],
   "source": [
    "l=[18,16,9,4]"
   ]
  },
  {
   "cell_type": "code",
   "execution_count": null,
   "metadata": {},
   "outputs": [],
   "source": []
  }
 ],
 "metadata": {
  "kernelspec": {
   "display_name": "Python 3",
   "language": "python",
   "name": "python3"
  },
  "language_info": {
   "codemirror_mode": {
    "name": "ipython",
    "version": 3
   },
   "file_extension": ".py",
   "mimetype": "text/x-python",
   "name": "python",
   "nbconvert_exporter": "python",
   "pygments_lexer": "ipython3",
   "version": "3.6.5"
  }
 },
 "nbformat": 4,
 "nbformat_minor": 2
}
