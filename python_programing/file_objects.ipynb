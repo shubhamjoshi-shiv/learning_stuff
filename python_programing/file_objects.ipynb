{
 "cells": [
  {
   "cell_type": "code",
   "execution_count": 14,
   "metadata": {},
   "outputs": [
    {
     "name": "stdout",
     "output_type": "stream",
     "text": [
      "<_io.TextIOWrapper name='test.txt' mode='r' encoding='cp1252'>\n"
     ]
    }
   ],
   "source": [
    "f=open('test.txt','r') #-----------open(\"_file name\",\"_mode\") mode= r (read) , w (write) ,r+ (read and write)\n",
    "print(f)                #-----\n",
    "f.close()                #---------very important to close"
   ]
  },
  {
   "cell_type": "code",
   "execution_count": 12,
   "metadata": {},
   "outputs": [
    {
     "name": "stdout",
     "output_type": "stream",
     "text": [
      "1 heloo\n",
      "file\n",
      "how are you\n"
     ]
    }
   ],
   "source": [
    "# to avoid closing\n",
    "\n",
    "\n",
    "with open('test.txt','r') as f: #------ context manager best practice manages opning and closing\n",
    "    f_contents = f.read()\n",
    "    print(\"1\",f_contents)\n",
    "#     f_contents = f.readlines()#----------- one type of read at a time\n",
    "#     print(\"2\",f_contents)      #-----can run out of memmory\n",
    "#     f_contents = f.readline()\n",
    "#     print(\"3\",f_contents)"
   ]
  },
  {
   "cell_type": "code",
   "execution_count": 13,
   "metadata": {},
   "outputs": [
    {
     "name": "stdout",
     "output_type": "stream",
     "text": [
      "heloo\n",
      "file\n",
      "how are you"
     ]
    }
   ],
   "source": [
    "with open('test.txt','r') as f: \n",
    "    for line in f:\n",
    "        print(line,end=\"\")"
   ]
  },
  {
   "cell_type": "code",
   "execution_count": null,
   "metadata": {},
   "outputs": [],
   "source": []
  }
 ],
 "metadata": {
  "kernelspec": {
   "display_name": "Python 3",
   "language": "python",
   "name": "python3"
  },
  "language_info": {
   "codemirror_mode": {
    "name": "ipython",
    "version": 3
   },
   "file_extension": ".py",
   "mimetype": "text/x-python",
   "name": "python",
   "nbconvert_exporter": "python",
   "pygments_lexer": "ipython3",
   "version": "3.8.6"
  }
 },
 "nbformat": 4,
 "nbformat_minor": 4
}
