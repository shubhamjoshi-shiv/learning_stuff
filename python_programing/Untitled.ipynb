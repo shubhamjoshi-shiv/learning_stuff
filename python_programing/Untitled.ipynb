{
 "cells": [
  {
   "cell_type": "markdown",
   "metadata": {},
   "source": [
    "Q--------Move all negative numbers to beginning and positive to end with constant extra space"
   ]
  },
  {
   "cell_type": "markdown",
   "metadata": {},
   "source": [
    "a---element bhi bade ho sakte hain to negative ki index ek jagah aur positive ki index dusre jagah store kar lo........"
   ]
  },
  {
   "cell_type": "code",
   "execution_count": 8,
   "metadata": {},
   "outputs": [],
   "source": [
    "array_with_random_arrangement_of_integer=[1,2,2,1,3,-4,-6,-4,3,5,-6,-3,2,2,-4,-9]\n",
    "length_of_input_array=len(array_with_random_arrangement_of_integer)\n",
    "positive_int=[]\n",
    "negetive_int=[]\n",
    "rearranged_int_array=[]"
   ]
  },
  {
   "cell_type": "code",
   "execution_count": 9,
   "metadata": {},
   "outputs": [
    {
     "name": "stdout",
     "output_type": "stream",
     "text": [
      "[-4, -6, -4, -6, -3, -4, -9, 1, 2, 2, 1, 3, 3, 5, 2, 2]\n"
     ]
    }
   ],
   "source": [
    "for element in array_with_random_arrangement_of_integer:\n",
    "    if element<0:\n",
    "        negetive_int.append(element)\n",
    "    else:\n",
    "        positive_int.append(element)\n",
    "        \n",
    "rearranged_int_array=negetive_int+positive_int\n",
    "\n",
    "print(rearranged_int_array)"
   ]
  },
  {
   "cell_type": "code",
   "execution_count": null,
   "metadata": {},
   "outputs": [],
   "source": []
  }
 ],
 "metadata": {
  "kernelspec": {
   "display_name": "Python 3",
   "language": "python",
   "name": "python3"
  },
  "language_info": {
   "codemirror_mode": {
    "name": "ipython",
    "version": 3
   },
   "file_extension": ".py",
   "mimetype": "text/x-python",
   "name": "python",
   "nbconvert_exporter": "python",
   "pygments_lexer": "ipython3",
   "version": "3.6.5"
  }
 },
 "nbformat": 4,
 "nbformat_minor": 2
}
